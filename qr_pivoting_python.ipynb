{
 "cells": [
  {
   "cell_type": "code",
   "execution_count": 4,
   "metadata": {},
   "outputs": [
    {
     "name": "stdout",
     "output_type": "stream",
     "text": [
      "    Q1   Q2   Q3   Q4   Q5   Q6   Q7   Q8   Q9  Q10  ...  Q91  Q92  Q93  Q94  \\\n",
      "0  325   72  184  405  431  354  302  190  415  492  ...  329   30  441  458   \n",
      "1  229  235  141  482  170  242  219  313  173  148  ...  224  139  221   25   \n",
      "2   37  172   78  319  220  332  422  334  314  488  ...  248  153  131  441   \n",
      "3  224  465  421  101  236  252  142  216  432  218  ...  330   65   50   86   \n",
      "4  474  395  110  178  270  165  405  491  125   32  ...  246  441  418  322   \n",
      "5  282  432  241  146   67  327  373  162  354  166  ...  175  211  212    6   \n",
      "6  141  206   40   45  287  488  181  471  113  441  ...  363  341   12  339   \n",
      "7  110   92  462  373  298    7  315   88  387  282  ...   30  375  189  440   \n",
      "8  245  325  299   79  480  395  137   60  141  431  ...  382  385  469  106   \n",
      "9  291  290  114  344  399  369   87   52  196  163  ...  367  127  391  116   \n",
      "\n",
      "   Q95  Q96  Q97  Q98  Q99  Q100  \n",
      "0  406  307  125  201  282   260  \n",
      "1   27  187  316  238  384   134  \n",
      "2  407  223   21   51  228   466  \n",
      "3  120  441    9   43   45   107  \n",
      "4  461   45  199  176  457    20  \n",
      "5  113  485   25  133   52   105  \n",
      "6  471  481  137  271  345   286  \n",
      "7   20  160  129  294  440   149  \n",
      "8   59  305  105   54  122   283  \n",
      "9   83   52  184  444  304    32  \n",
      "\n",
      "[10 rows x 100 columns]\n"
     ]
    }
   ],
   "source": [
    "import pandas as pd\n",
    "import numpy as np\n",
    "import timeit\n",
    "\n",
    "\n",
    "df_ = pd.read_csv(\"dataset.csv\")\n",
    "print(df_)\n",
    "for i in df_.columns:\n",
    "    df_[i] = df_[i].astype(\"float64\")\n",
    "df = np.array(df_)\n"
   ]
  },
  {
   "cell_type": "code",
   "execution_count": 5,
   "metadata": {},
   "outputs": [],
   "source": [
    "def qr_factorization_gram_schmidt_pivoting(A):\n",
    "    m, n = A.shape\n",
    "    Q = np.zeros((m, n))\n",
    "    R = np.zeros((n, n))\n",
    "    P = np.eye(n)\n",
    "    for k in range(n):\n",
    "        max_col_index = np.argmax(np.linalg.norm(A[:, k:], axis=0))\n",
    "        max_col_index += k\n",
    "        A[:, [k, max_col_index]] = A[:, [max_col_index, k]]\n",
    "        P[:, [k, max_col_index]] = P[:, [max_col_index, k]]\n",
    "        v = A[:, k]\n",
    "        for j in range(k):\n",
    "            R[j, k] = Q[:, j] @ A[:, k]\n",
    "            v -= R[j, k] * Q[:, j]\n",
    "        R[k, k] = np.linalg.norm(v)\n",
    "        Q[:, k] = v / R[k, k]\n",
    "    return Q, P, R\n",
    "\n"
   ]
  },
  {
   "cell_type": "code",
   "execution_count": 6,
   "metadata": {},
   "outputs": [
    {
     "name": "stdout",
     "output_type": "stream",
     "text": [
      "Runtime: 0.030799400000432797 seconds\n"
     ]
    }
   ],
   "source": [
    "# Measure runtime\n",
    "runtime = timeit.timeit(lambda: qr_factorization_gram_schmidt_pivoting(df), number=1)\n",
    "\n",
    "\n",
    "print(f\"Runtime: {runtime} seconds\")"
   ]
  }
 ],
 "metadata": {
  "kernelspec": {
   "display_name": "Python 3",
   "language": "python",
   "name": "python3"
  },
  "language_info": {
   "codemirror_mode": {
    "name": "ipython",
    "version": 3
   },
   "file_extension": ".py",
   "mimetype": "text/x-python",
   "name": "python",
   "nbconvert_exporter": "python",
   "pygments_lexer": "ipython3",
   "version": "3.12.0"
  }
 },
 "nbformat": 4,
 "nbformat_minor": 2
}
